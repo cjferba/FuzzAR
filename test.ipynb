{
 "cells": [
  {
   "metadata": {},
   "cell_type": "markdown",
   "source": [
    "# Visualización de Reglas de Asociación Difusas\\n\n",
    "\n",
    " Este notebook muestra cómo cargar y visualizar un grafo de reglas generado por FuzzAR."
   ],
   "id": "5865fae90b867df4"
  },
  {
   "metadata": {},
   "cell_type": "code",
   "outputs": [],
   "execution_count": null,
   "source": "from fuzzy_visualization import load_graph_from_json, plot_graph",
   "id": "d0b0b7c846d75853"
  },
  {
   "metadata": {},
   "cell_type": "markdown",
   "source": "## Cargar el grafo desde JSON",
   "id": "3c56358a2bd4eb0c"
  },
  {
   "metadata": {},
   "cell_type": "code",
   "outputs": [],
   "execution_count": null,
   "source": "",
   "id": "4142c0263a8aff29"
  }
 ],
 "metadata": {
  "kernelspec": {
   "display_name": "Python 3",
   "language": "python",
   "name": "python3"
  },
  "language_info": {
   "codemirror_mode": {
    "name": "ipython",
    "version": 2
   },
   "file_extension": ".py",
   "mimetype": "text/x-python",
   "name": "python",
   "nbconvert_exporter": "python",
   "pygments_lexer": "ipython2",
   "version": "2.7.6"
  }
 },
 "nbformat": 4,
 "nbformat_minor": 5
}
